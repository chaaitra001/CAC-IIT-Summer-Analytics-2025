{
 "cells": [
  {
   "cell_type": "code",
   "execution_count": 1,
   "id": "6a521f16",
   "metadata": {
    "_cell_guid": "b1076dfc-b9ad-4769-8c92-a6c4dae69d19",
    "_uuid": "8f2839f25d086af736a60e9eeb907d3b93b6e0e5",
    "execution": {
     "iopub.execute_input": "2025-06-12T14:50:03.578731Z",
     "iopub.status.busy": "2025-06-12T14:50:03.578308Z",
     "iopub.status.idle": "2025-06-12T14:50:05.635441Z",
     "shell.execute_reply": "2025-06-12T14:50:05.634345Z"
    },
    "id": "a8cbd0db",
    "outputId": "311ed7d7-bd75-4028-9fb1-996a6daa82ab",
    "papermill": {
     "duration": 2.066065,
     "end_time": "2025-06-12T14:50:05.637055",
     "exception": false,
     "start_time": "2025-06-12T14:50:03.570990",
     "status": "completed"
    },
    "tags": []
   },
   "outputs": [
    {
     "name": "stdout",
     "output_type": "stream",
     "text": [
      "/kaggle/input/summer-analytics-mid-hackathon/hacktest.csv\n",
      "/kaggle/input/summer-analytics-mid-hackathon/hacktrain.csv\n"
     ]
    }
   ],
   "source": [
    "# This Python 3 environment comes with many helpful analytics libraries installed\n",
    "# It is defined by the kaggle/python Docker image: https://github.com/kaggle/docker-python\n",
    "# For example, here's several helpful packages to load\n",
    "\n",
    "import numpy as np # linear algebra\n",
    "import pandas as pd # data processing, CSV file I/O (e.g. pd.read_csv)\n",
    "\n",
    "# Input data files are available in the read-only \"../input/\" directory\n",
    "# For example, running this (by clicking run or pressing Shift+Enter) will list all files under the input directory\n",
    "\n",
    "import os\n",
    "for dirname, _, filenames in os.walk('/kaggle/input'):\n",
    "    for filename in filenames:\n",
    "        print(os.path.join(dirname, filename))\n",
    "\n",
    "# You can write up to 20GB to the current directory (/kaggle/working/) that gets preserved as output when you create a version using \"Save & Run All\"\n",
    "# You can also write temporary files to /kaggle/temp/, but they won't be saved outside of the current session"
   ]
  },
  {
   "cell_type": "code",
   "execution_count": 2,
   "id": "94d22416",
   "metadata": {
    "execution": {
     "iopub.execute_input": "2025-06-12T14:50:05.649517Z",
     "iopub.status.busy": "2025-06-12T14:50:05.649069Z",
     "iopub.status.idle": "2025-06-12T14:50:05.769249Z",
     "shell.execute_reply": "2025-06-12T14:50:05.768122Z"
    },
    "id": "52fc0999",
    "outputId": "a16d5e47-4edc-4b81-808b-c28b98935d64",
    "papermill": {
     "duration": 0.128352,
     "end_time": "2025-06-12T14:50:05.771121",
     "exception": false,
     "start_time": "2025-06-12T14:50:05.642769",
     "status": "completed"
    },
    "tags": []
   },
   "outputs": [
    {
     "name": "stderr",
     "output_type": "stream",
     "text": [
      "/usr/local/lib/python3.11/dist-packages/pandas/io/formats/format.py:1458: RuntimeWarning: invalid value encountered in greater\n",
      "  has_large_values = (abs_vals > 1e6).any()\n",
      "/usr/local/lib/python3.11/dist-packages/pandas/io/formats/format.py:1459: RuntimeWarning: invalid value encountered in less\n",
      "  has_small_values = ((abs_vals < 10 ** (-self.digits)) & (abs_vals > 0)).any()\n",
      "/usr/local/lib/python3.11/dist-packages/pandas/io/formats/format.py:1459: RuntimeWarning: invalid value encountered in greater\n",
      "  has_small_values = ((abs_vals < 10 ** (-self.digits)) & (abs_vals > 0)).any()\n",
      "/usr/local/lib/python3.11/dist-packages/pandas/io/formats/format.py:1458: RuntimeWarning: invalid value encountered in greater\n",
      "  has_large_values = (abs_vals > 1e6).any()\n",
      "/usr/local/lib/python3.11/dist-packages/pandas/io/formats/format.py:1459: RuntimeWarning: invalid value encountered in less\n",
      "  has_small_values = ((abs_vals < 10 ** (-self.digits)) & (abs_vals > 0)).any()\n",
      "/usr/local/lib/python3.11/dist-packages/pandas/io/formats/format.py:1459: RuntimeWarning: invalid value encountered in greater\n",
      "  has_small_values = ((abs_vals < 10 ** (-self.digits)) & (abs_vals > 0)).any()\n"
     ]
    },
    {
     "data": {
      "text/html": [
       "<div>\n",
       "<style scoped>\n",
       "    .dataframe tbody tr th:only-of-type {\n",
       "        vertical-align: middle;\n",
       "    }\n",
       "\n",
       "    .dataframe tbody tr th {\n",
       "        vertical-align: top;\n",
       "    }\n",
       "\n",
       "    .dataframe thead th {\n",
       "        text-align: right;\n",
       "    }\n",
       "</style>\n",
       "<table border=\"1\" class=\"dataframe\">\n",
       "  <thead>\n",
       "    <tr style=\"text-align: right;\">\n",
       "      <th></th>\n",
       "      <th>Unnamed: 0</th>\n",
       "      <th>ID</th>\n",
       "      <th>class</th>\n",
       "      <th>20150720_N</th>\n",
       "      <th>20150602_N</th>\n",
       "      <th>20150517_N</th>\n",
       "      <th>20150501_N</th>\n",
       "      <th>20150415_N</th>\n",
       "      <th>20150330_N</th>\n",
       "      <th>20150314_N</th>\n",
       "      <th>...</th>\n",
       "      <th>20140610_N</th>\n",
       "      <th>20140525_N</th>\n",
       "      <th>20140509_N</th>\n",
       "      <th>20140423_N</th>\n",
       "      <th>20140407_N</th>\n",
       "      <th>20140322_N</th>\n",
       "      <th>20140218_N</th>\n",
       "      <th>20140202_N</th>\n",
       "      <th>20140117_N</th>\n",
       "      <th>20140101_N</th>\n",
       "    </tr>\n",
       "  </thead>\n",
       "  <tbody>\n",
       "    <tr>\n",
       "      <th>0</th>\n",
       "      <td>0</td>\n",
       "      <td>1</td>\n",
       "      <td>water</td>\n",
       "      <td>637.5950</td>\n",
       "      <td>658.668</td>\n",
       "      <td>-1882.030</td>\n",
       "      <td>-1924.36</td>\n",
       "      <td>997.904</td>\n",
       "      <td>-1739.990</td>\n",
       "      <td>630.087</td>\n",
       "      <td>...</td>\n",
       "      <td>NaN</td>\n",
       "      <td>-1043.160</td>\n",
       "      <td>-1942.490</td>\n",
       "      <td>267.138</td>\n",
       "      <td>NaN</td>\n",
       "      <td>NaN</td>\n",
       "      <td>211.328</td>\n",
       "      <td>-2203.020</td>\n",
       "      <td>-1180.19</td>\n",
       "      <td>433.906</td>\n",
       "    </tr>\n",
       "    <tr>\n",
       "      <th>1</th>\n",
       "      <td>1</td>\n",
       "      <td>2</td>\n",
       "      <td>water</td>\n",
       "      <td>634.2400</td>\n",
       "      <td>593.705</td>\n",
       "      <td>-1625.790</td>\n",
       "      <td>-1672.32</td>\n",
       "      <td>914.198</td>\n",
       "      <td>-692.386</td>\n",
       "      <td>707.626</td>\n",
       "      <td>...</td>\n",
       "      <td>NaN</td>\n",
       "      <td>-933.934</td>\n",
       "      <td>-625.385</td>\n",
       "      <td>120.059</td>\n",
       "      <td>364.858</td>\n",
       "      <td>476.972</td>\n",
       "      <td>220.878</td>\n",
       "      <td>-2250.000</td>\n",
       "      <td>-1360.56</td>\n",
       "      <td>524.075</td>\n",
       "    </tr>\n",
       "    <tr>\n",
       "      <th>2</th>\n",
       "      <td>3</td>\n",
       "      <td>4</td>\n",
       "      <td>water</td>\n",
       "      <td>58.0174</td>\n",
       "      <td>-1599.160</td>\n",
       "      <td>NaN</td>\n",
       "      <td>-1052.63</td>\n",
       "      <td>NaN</td>\n",
       "      <td>-1564.630</td>\n",
       "      <td>NaN</td>\n",
       "      <td>...</td>\n",
       "      <td>-1025.880</td>\n",
       "      <td>368.622</td>\n",
       "      <td>NaN</td>\n",
       "      <td>-1227.800</td>\n",
       "      <td>304.621</td>\n",
       "      <td>NaN</td>\n",
       "      <td>369.214</td>\n",
       "      <td>-2202.120</td>\n",
       "      <td>NaN</td>\n",
       "      <td>-1343.550</td>\n",
       "    </tr>\n",
       "    <tr>\n",
       "      <th>3</th>\n",
       "      <td>4</td>\n",
       "      <td>5</td>\n",
       "      <td>water</td>\n",
       "      <td>72.5180</td>\n",
       "      <td>NaN</td>\n",
       "      <td>380.436</td>\n",
       "      <td>-1256.93</td>\n",
       "      <td>515.805</td>\n",
       "      <td>-1413.180</td>\n",
       "      <td>-802.942</td>\n",
       "      <td>...</td>\n",
       "      <td>-1813.950</td>\n",
       "      <td>155.624</td>\n",
       "      <td>NaN</td>\n",
       "      <td>-924.073</td>\n",
       "      <td>432.150</td>\n",
       "      <td>282.833</td>\n",
       "      <td>298.320</td>\n",
       "      <td>-2197.360</td>\n",
       "      <td>NaN</td>\n",
       "      <td>-826.727</td>\n",
       "    </tr>\n",
       "    <tr>\n",
       "      <th>4</th>\n",
       "      <td>7</td>\n",
       "      <td>8</td>\n",
       "      <td>water</td>\n",
       "      <td>1136.4400</td>\n",
       "      <td>NaN</td>\n",
       "      <td>NaN</td>\n",
       "      <td>1647.83</td>\n",
       "      <td>1935.800</td>\n",
       "      <td>NaN</td>\n",
       "      <td>2158.980</td>\n",
       "      <td>...</td>\n",
       "      <td>1535.000</td>\n",
       "      <td>1959.430</td>\n",
       "      <td>-279.317</td>\n",
       "      <td>-384.915</td>\n",
       "      <td>-113.406</td>\n",
       "      <td>1020.720</td>\n",
       "      <td>1660.650</td>\n",
       "      <td>-116.801</td>\n",
       "      <td>-568.05</td>\n",
       "      <td>-1357.140</td>\n",
       "    </tr>\n",
       "    <tr>\n",
       "      <th>...</th>\n",
       "      <td>...</td>\n",
       "      <td>...</td>\n",
       "      <td>...</td>\n",
       "      <td>...</td>\n",
       "      <td>...</td>\n",
       "      <td>...</td>\n",
       "      <td>...</td>\n",
       "      <td>...</td>\n",
       "      <td>...</td>\n",
       "      <td>...</td>\n",
       "      <td>...</td>\n",
       "      <td>...</td>\n",
       "      <td>...</td>\n",
       "      <td>...</td>\n",
       "      <td>...</td>\n",
       "      <td>...</td>\n",
       "      <td>...</td>\n",
       "      <td>...</td>\n",
       "      <td>...</td>\n",
       "      <td>...</td>\n",
       "      <td>...</td>\n",
       "    </tr>\n",
       "    <tr>\n",
       "      <th>7995</th>\n",
       "      <td>10537</td>\n",
       "      <td>10538</td>\n",
       "      <td>impervious</td>\n",
       "      <td>1207.7000</td>\n",
       "      <td>984.620</td>\n",
       "      <td>NaN</td>\n",
       "      <td>1166.25</td>\n",
       "      <td>937.478</td>\n",
       "      <td>1072.700</td>\n",
       "      <td>823.896</td>\n",
       "      <td>...</td>\n",
       "      <td>1117.740</td>\n",
       "      <td>1176.600</td>\n",
       "      <td>1044.110</td>\n",
       "      <td>NaN</td>\n",
       "      <td>369.082</td>\n",
       "      <td>465.843</td>\n",
       "      <td>362.882</td>\n",
       "      <td>979.795</td>\n",
       "      <td>NaN</td>\n",
       "      <td>433.659</td>\n",
       "    </tr>\n",
       "    <tr>\n",
       "      <th>7996</th>\n",
       "      <td>10538</td>\n",
       "      <td>10539</td>\n",
       "      <td>impervious</td>\n",
       "      <td>2170.3500</td>\n",
       "      <td>1419.720</td>\n",
       "      <td>1361.000</td>\n",
       "      <td>1478.71</td>\n",
       "      <td>983.911</td>\n",
       "      <td>1262.110</td>\n",
       "      <td>1422.860</td>\n",
       "      <td>...</td>\n",
       "      <td>984.634</td>\n",
       "      <td>2128.970</td>\n",
       "      <td>1379.660</td>\n",
       "      <td>NaN</td>\n",
       "      <td>762.633</td>\n",
       "      <td>485.204</td>\n",
       "      <td>446.724</td>\n",
       "      <td>771.747</td>\n",
       "      <td>1589.06</td>\n",
       "      <td>506.936</td>\n",
       "    </tr>\n",
       "    <tr>\n",
       "      <th>7997</th>\n",
       "      <td>10541</td>\n",
       "      <td>10542</td>\n",
       "      <td>impervious</td>\n",
       "      <td>1895.6800</td>\n",
       "      <td>1454.740</td>\n",
       "      <td>NaN</td>\n",
       "      <td>1033.56</td>\n",
       "      <td>1930.380</td>\n",
       "      <td>1057.150</td>\n",
       "      <td>1471.600</td>\n",
       "      <td>...</td>\n",
       "      <td>888.408</td>\n",
       "      <td>2093.020</td>\n",
       "      <td>1232.110</td>\n",
       "      <td>1190.830</td>\n",
       "      <td>1441.460</td>\n",
       "      <td>1170.880</td>\n",
       "      <td>1095.000</td>\n",
       "      <td>1818.650</td>\n",
       "      <td>2501.72</td>\n",
       "      <td>1247.770</td>\n",
       "    </tr>\n",
       "    <tr>\n",
       "      <th>7998</th>\n",
       "      <td>10542</td>\n",
       "      <td>10543</td>\n",
       "      <td>impervious</td>\n",
       "      <td>3465.7400</td>\n",
       "      <td>1283.320</td>\n",
       "      <td>413.412</td>\n",
       "      <td>4391.05</td>\n",
       "      <td>1146.820</td>\n",
       "      <td>4473.050</td>\n",
       "      <td>1614.750</td>\n",
       "      <td>...</td>\n",
       "      <td>5833.760</td>\n",
       "      <td>4047.320</td>\n",
       "      <td>4515.800</td>\n",
       "      <td>433.177</td>\n",
       "      <td>277.296</td>\n",
       "      <td>744.143</td>\n",
       "      <td>NaN</td>\n",
       "      <td>3759.710</td>\n",
       "      <td>NaN</td>\n",
       "      <td>388.346</td>\n",
       "    </tr>\n",
       "    <tr>\n",
       "      <th>7999</th>\n",
       "      <td>10544</td>\n",
       "      <td>10545</td>\n",
       "      <td>impervious</td>\n",
       "      <td>6941.1900</td>\n",
       "      <td>1667.870</td>\n",
       "      <td>5084.780</td>\n",
       "      <td>NaN</td>\n",
       "      <td>1588.950</td>\n",
       "      <td>5978.190</td>\n",
       "      <td>NaN</td>\n",
       "      <td>...</td>\n",
       "      <td>7352.570</td>\n",
       "      <td>3289.860</td>\n",
       "      <td>3729.150</td>\n",
       "      <td>1994.980</td>\n",
       "      <td>NaN</td>\n",
       "      <td>5299.900</td>\n",
       "      <td>NaN</td>\n",
       "      <td>5983.130</td>\n",
       "      <td>1249.71</td>\n",
       "      <td>2424.230</td>\n",
       "    </tr>\n",
       "  </tbody>\n",
       "</table>\n",
       "<p>8000 rows × 30 columns</p>\n",
       "</div>"
      ],
      "text/plain": [
       "      Unnamed: 0     ID       class  20150720_N  20150602_N  20150517_N  \\\n",
       "0              0      1       water    637.5950     658.668   -1882.030   \n",
       "1              1      2       water    634.2400     593.705   -1625.790   \n",
       "2              3      4       water     58.0174   -1599.160         NaN   \n",
       "3              4      5       water     72.5180         NaN     380.436   \n",
       "4              7      8       water   1136.4400         NaN         NaN   \n",
       "...          ...    ...         ...         ...         ...         ...   \n",
       "7995       10537  10538  impervious   1207.7000     984.620         NaN   \n",
       "7996       10538  10539  impervious   2170.3500    1419.720    1361.000   \n",
       "7997       10541  10542  impervious   1895.6800    1454.740         NaN   \n",
       "7998       10542  10543  impervious   3465.7400    1283.320     413.412   \n",
       "7999       10544  10545  impervious   6941.1900    1667.870    5084.780   \n",
       "\n",
       "      20150501_N  20150415_N  20150330_N  20150314_N  ...  20140610_N  \\\n",
       "0       -1924.36     997.904   -1739.990     630.087  ...         NaN   \n",
       "1       -1672.32     914.198    -692.386     707.626  ...         NaN   \n",
       "2       -1052.63         NaN   -1564.630         NaN  ...   -1025.880   \n",
       "3       -1256.93     515.805   -1413.180    -802.942  ...   -1813.950   \n",
       "4        1647.83    1935.800         NaN    2158.980  ...    1535.000   \n",
       "...          ...         ...         ...         ...  ...         ...   \n",
       "7995     1166.25     937.478    1072.700     823.896  ...    1117.740   \n",
       "7996     1478.71     983.911    1262.110    1422.860  ...     984.634   \n",
       "7997     1033.56    1930.380    1057.150    1471.600  ...     888.408   \n",
       "7998     4391.05    1146.820    4473.050    1614.750  ...    5833.760   \n",
       "7999         NaN    1588.950    5978.190         NaN  ...    7352.570   \n",
       "\n",
       "      20140525_N  20140509_N  20140423_N  20140407_N  20140322_N  20140218_N  \\\n",
       "0      -1043.160   -1942.490     267.138         NaN         NaN     211.328   \n",
       "1       -933.934    -625.385     120.059     364.858     476.972     220.878   \n",
       "2        368.622         NaN   -1227.800     304.621         NaN     369.214   \n",
       "3        155.624         NaN    -924.073     432.150     282.833     298.320   \n",
       "4       1959.430    -279.317    -384.915    -113.406    1020.720    1660.650   \n",
       "...          ...         ...         ...         ...         ...         ...   \n",
       "7995    1176.600    1044.110         NaN     369.082     465.843     362.882   \n",
       "7996    2128.970    1379.660         NaN     762.633     485.204     446.724   \n",
       "7997    2093.020    1232.110    1190.830    1441.460    1170.880    1095.000   \n",
       "7998    4047.320    4515.800     433.177     277.296     744.143         NaN   \n",
       "7999    3289.860    3729.150    1994.980         NaN    5299.900         NaN   \n",
       "\n",
       "      20140202_N  20140117_N  20140101_N  \n",
       "0      -2203.020    -1180.19     433.906  \n",
       "1      -2250.000    -1360.56     524.075  \n",
       "2      -2202.120         NaN   -1343.550  \n",
       "3      -2197.360         NaN    -826.727  \n",
       "4       -116.801     -568.05   -1357.140  \n",
       "...          ...         ...         ...  \n",
       "7995     979.795         NaN     433.659  \n",
       "7996     771.747     1589.06     506.936  \n",
       "7997    1818.650     2501.72    1247.770  \n",
       "7998    3759.710         NaN     388.346  \n",
       "7999    5983.130     1249.71    2424.230  \n",
       "\n",
       "[8000 rows x 30 columns]"
      ]
     },
     "execution_count": 2,
     "metadata": {},
     "output_type": "execute_result"
    }
   ],
   "source": [
    "df = pd.read_csv(\"/kaggle/input/summer-analytics-mid-hackathon/hacktrain.csv\")\n",
    "df #ignore the warnings"
   ]
  },
  {
   "cell_type": "code",
   "execution_count": 3,
   "id": "1255ebc3",
   "metadata": {
    "execution": {
     "iopub.execute_input": "2025-06-12T14:50:05.784067Z",
     "iopub.status.busy": "2025-06-12T14:50:05.783707Z",
     "iopub.status.idle": "2025-06-12T14:50:05.797544Z",
     "shell.execute_reply": "2025-06-12T14:50:05.796414Z"
    },
    "id": "92e3be16",
    "outputId": "56679b63-7c77-400d-e51a-ff8f7446285a",
    "papermill": {
     "duration": 0.022303,
     "end_time": "2025-06-12T14:50:05.799333",
     "exception": false,
     "start_time": "2025-06-12T14:50:05.777030",
     "status": "completed"
    },
    "tags": []
   },
   "outputs": [
    {
     "data": {
      "text/plain": [
       "Unnamed: 0       0\n",
       "ID               0\n",
       "class            0\n",
       "20150720_N     560\n",
       "20150602_N    1200\n",
       "20150517_N     800\n",
       "20150501_N     960\n",
       "20150415_N     480\n",
       "20150330_N    1120\n",
       "20150314_N     720\n",
       "20150226_N    1360\n",
       "20150210_N     640\n",
       "20150125_N    1040\n",
       "20150109_N     880\n",
       "20141117_N    1280\n",
       "20141101_N     400\n",
       "20141016_N    1440\n",
       "20140930_N     800\n",
       "20140813_N     560\n",
       "20140626_N    1600\n",
       "20140610_N     480\n",
       "20140525_N     720\n",
       "20140509_N     880\n",
       "20140423_N    1760\n",
       "20140407_N     640\n",
       "20140322_N    1120\n",
       "20140218_N    1440\n",
       "20140202_N     560\n",
       "20140117_N    1200\n",
       "20140101_N     400\n",
       "dtype: int64"
      ]
     },
     "execution_count": 3,
     "metadata": {},
     "output_type": "execute_result"
    }
   ],
   "source": [
    "df.isnull().sum()"
   ]
  },
  {
   "cell_type": "code",
   "execution_count": 4,
   "id": "810b1c33",
   "metadata": {
    "execution": {
     "iopub.execute_input": "2025-06-12T14:50:05.812493Z",
     "iopub.status.busy": "2025-06-12T14:50:05.812166Z",
     "iopub.status.idle": "2025-06-12T14:50:05.842992Z",
     "shell.execute_reply": "2025-06-12T14:50:05.841992Z"
    },
    "id": "8646c661",
    "outputId": "960ea854-616d-43b0-d8c0-72a9cbdef0ed",
    "papermill": {
     "duration": 0.03939,
     "end_time": "2025-06-12T14:50:05.844717",
     "exception": false,
     "start_time": "2025-06-12T14:50:05.805327",
     "status": "completed"
    },
    "tags": []
   },
   "outputs": [
    {
     "data": {
      "text/plain": [
       "Unnamed: 0    0\n",
       "ID            0\n",
       "class         0\n",
       "20150720_N    0\n",
       "20150602_N    0\n",
       "20150517_N    0\n",
       "20150501_N    0\n",
       "20150415_N    0\n",
       "20150330_N    0\n",
       "20150314_N    0\n",
       "20150226_N    0\n",
       "20150210_N    0\n",
       "20150125_N    0\n",
       "20150109_N    0\n",
       "20141117_N    0\n",
       "20141101_N    0\n",
       "20141016_N    0\n",
       "20140930_N    0\n",
       "20140813_N    0\n",
       "20140626_N    0\n",
       "20140610_N    0\n",
       "20140525_N    0\n",
       "20140509_N    0\n",
       "20140423_N    0\n",
       "20140407_N    0\n",
       "20140322_N    0\n",
       "20140218_N    0\n",
       "20140202_N    0\n",
       "20140117_N    0\n",
       "20140101_N    0\n",
       "dtype: int64"
      ]
     },
     "execution_count": 4,
     "metadata": {},
     "output_type": "execute_result"
    }
   ],
   "source": [
    "df.fillna(df.mean(numeric_only=True), inplace=True) #simple mean imputation [This part has a lot of scope for imporovement.]\n",
    "#keep in mind that the data is inherently noisy and the test dataset is not.\n",
    "df.isnull().sum()"
   ]
  },
  {
   "cell_type": "code",
   "execution_count": 5,
   "id": "63f911d6",
   "metadata": {
    "execution": {
     "iopub.execute_input": "2025-06-12T14:50:05.858956Z",
     "iopub.status.busy": "2025-06-12T14:50:05.858614Z",
     "iopub.status.idle": "2025-06-12T14:50:05.895938Z",
     "shell.execute_reply": "2025-06-12T14:50:05.894760Z"
    },
    "papermill": {
     "duration": 0.046198,
     "end_time": "2025-06-12T14:50:05.897617",
     "exception": false,
     "start_time": "2025-06-12T14:50:05.851419",
     "status": "completed"
    },
    "tags": []
   },
   "outputs": [],
   "source": [
    "# feature engineering for train data\n",
    "# let us identify all NDVI columns\n",
    "ndvi_cols = [col for col in df.columns if '_N' in col]\n",
    "\n",
    "# Feature engineering\n",
    "df['ndvi_mean'] = df[ndvi_cols].mean(axis=1)\n",
    "df['ndvi_std'] = df[ndvi_cols].std(axis=1)\n",
    "df['ndvi_min'] = df[ndvi_cols].min(axis=1)\n",
    "df['ndvi_max'] = df[ndvi_cols].max(axis=1)\n",
    "df['ndvi_trend'] = df[ndvi_cols].iloc[:, -1] - df[ndvi_cols].iloc[:, 0]\n",
    "\n",
    "# let's add some more new features. they increased the accuracy! (by a little bit haha)\n",
    "df['ndvi_range'] = df['ndvi_max'] - df['ndvi_min']\n",
    "df['ndvi_cv'] = df['ndvi_std'] / (df['ndvi_mean'] + 1e-5)\n",
    "\n",
    "# let's further tweak it :)\n",
    "df['mean_x_std'] = df['ndvi_mean'] * df['ndvi_std']\n",
    "df['trend_x_range'] = df['ndvi_trend'] * df['ndvi_range']\n",
    "df['min_over_max'] = df['ndvi_min'] / (df['ndvi_max'] + 1e-5)\n",
    "\n",
    "# drop the raw ndvi columns - to only train on the new ones\n",
    "# df.drop(columns=ndvi_cols, inplace=True)"
   ]
  },
  {
   "cell_type": "code",
   "execution_count": 6,
   "id": "df543dbe",
   "metadata": {
    "execution": {
     "iopub.execute_input": "2025-06-12T14:50:05.912158Z",
     "iopub.status.busy": "2025-06-12T14:50:05.911810Z",
     "iopub.status.idle": "2025-06-12T14:50:18.041772Z",
     "shell.execute_reply": "2025-06-12T14:50:18.040966Z"
    },
    "id": "c5a6f9fa",
    "outputId": "e0163470-d155-4ca6-c89d-fb5dc965b1ff",
    "papermill": {
     "duration": 12.140681,
     "end_time": "2025-06-12T14:50:18.045218",
     "exception": false,
     "start_time": "2025-06-12T14:50:05.904537",
     "status": "completed"
    },
    "tags": []
   },
   "outputs": [],
   "source": [
    "import pandas as pd\n",
    "from sklearn.linear_model import LogisticRegression\n",
    "from sklearn.model_selection import train_test_split\n",
    "from sklearn.preprocessing import LabelEncoder\n",
    "from sklearn.preprocessing import StandardScaler\n",
    "# from sklearn.preprocessing import MinMaxScaler\n",
    "from sklearn.model_selection import GridSearchCV\n",
    "from sklearn.metrics import classification_report\n",
    "\n",
    "# Drop ID column\n",
    "df.drop(columns=['ID'], inplace=True)\n",
    "\n",
    "if 'Unnamed: 0' in df.columns:\n",
    "    df.drop(columns=['Unnamed: 0'], inplace=True)\n",
    "\n",
    "# Encode class column (if it's categorical)\n",
    "label_encoder = LabelEncoder()\n",
    "df['class'] = label_encoder.fit_transform(df['class'])\n",
    "\n",
    "# Split into features and target\n",
    "X = df.drop(columns=['class'])\n",
    "y = df['class']\n",
    "\n",
    "# Train-test split\n",
    "X_train, X_val, y_train, y_val = train_test_split(\n",
    "    X, y, test_size=0.2, random_state=42, stratify=y)\n",
    "\n",
    "# Scale features - adding the StandardScaler to normalize\n",
    "# let us try using MinMaxScaler - it lowers. so let's just stick to StandardScaler\n",
    "scaler = StandardScaler()\n",
    "X_train = pd.DataFrame(scaler.fit_transform(X_train), columns=X.columns)\n",
    "X_val = pd.DataFrame(scaler.transform(X_val), columns=X.columns)\n",
    "\n",
    "# extra feature engineering\n",
    "# X_train['ndvi_range'] = X_train['ndvi_max'] - X_train['ndvi_min']\n",
    "# X_train['ndvi_cv'] = X_train['ndvi_std'] / (X_train['ndvi_mean'] + 1e-5)\n",
    "\n",
    "# let us try using grid search with logistic regression\n",
    "# Set the parameter grid to try different levels of regularization\n",
    "param_grid = {\n",
    "    'C': [0.001, 0.01, 0.1, 1, 5, 10, 50, 100]  # smaller = more regularization, bigger = looser fit\n",
    "}\n",
    "\n",
    "# Set up grid search with logistic regression\n",
    "grid = GridSearchCV(\n",
    "    LogisticRegression(\n",
    "        multi_class='multinomial',\n",
    "        solver='lbfgs',\n",
    "        max_iter=3000\n",
    "    ),\n",
    "    param_grid,\n",
    "    cv=5,             # 5-fold cross-validation\n",
    "    scoring='accuracy',\n",
    "    n_jobs=-1         # use all CPU cores to speed it up\n",
    ")\n",
    "\n",
    "# Fit grid search\n",
    "grid.fit(X_train, y_train)\n",
    "\n",
    "# Use the best model from grid search\n",
    "model = grid.best_estimator_\n",
    "# print(\"Best regularization strength (C):\", grid.best_params_)\n",
    "\n",
    "\n",
    "# this is the original code.\n",
    "# Fit multinomial logistic regression\n",
    "# model = LogisticRegression(\n",
    "#     multi_class='multinomial',\n",
    "#     solver='lbfgs',\n",
    "#     max_iter=3000,\n",
    "#     # random_state=42\n",
    "# )\n",
    "# model.fit(X_train, y_train)\n",
    "\n",
    "# Predict on test set\n",
    "# y_pred = model.predict(X_test)\n",
    "\n",
    "# Classification report with all original class labels\n",
    "# print(classification_report(\n",
    "    # y_test,\n",
    "    # y_pred,\n",
    "    # labels=list(range(len(label_encoder.classes_))),\n",
    "    # target_names=label_encoder.classes_\n",
    "# ))\n"
   ]
  },
  {
   "cell_type": "code",
   "execution_count": null,
   "id": "31ef1545",
   "metadata": {
    "papermill": {
     "duration": 0.024578,
     "end_time": "2025-06-12T14:50:18.094022",
     "exception": false,
     "start_time": "2025-06-12T14:50:18.069444",
     "status": "completed"
    },
    "tags": []
   },
   "outputs": [],
   "source": []
  },
  {
   "cell_type": "code",
   "execution_count": 7,
   "id": "ceb87118",
   "metadata": {
    "execution": {
     "iopub.execute_input": "2025-06-12T14:50:18.145385Z",
     "iopub.status.busy": "2025-06-12T14:50:18.140992Z",
     "iopub.status.idle": "2025-06-12T14:50:18.180509Z",
     "shell.execute_reply": "2025-06-12T14:50:18.179479Z"
    },
    "id": "ff1cd1b8",
    "outputId": "a27452e7-f36e-47ce-fcdb-4aa3c6e7f102",
    "papermill": {
     "duration": 0.065092,
     "end_time": "2025-06-12T14:50:18.182248",
     "exception": false,
     "start_time": "2025-06-12T14:50:18.117156",
     "status": "completed"
    },
    "tags": []
   },
   "outputs": [],
   "source": [
    "test_data = pd.read_csv(\"/kaggle/input/summer-analytics-mid-hackathon/hacktest.csv\")\n",
    "# test_data.shape\n",
    "# print(test_data.head())"
   ]
  },
  {
   "cell_type": "code",
   "execution_count": 8,
   "id": "6842bf4a",
   "metadata": {
    "execution": {
     "iopub.execute_input": "2025-06-12T14:50:18.195548Z",
     "iopub.status.busy": "2025-06-12T14:50:18.195253Z",
     "iopub.status.idle": "2025-06-12T14:50:18.200099Z",
     "shell.execute_reply": "2025-06-12T14:50:18.199171Z"
    },
    "papermill": {
     "duration": 0.013204,
     "end_time": "2025-06-12T14:50:18.201700",
     "exception": false,
     "start_time": "2025-06-12T14:50:18.188496",
     "status": "completed"
    },
    "tags": []
   },
   "outputs": [],
   "source": [
    "test_ids = test_data['ID'].copy()"
   ]
  },
  {
   "cell_type": "code",
   "execution_count": 9,
   "id": "f3c30597",
   "metadata": {
    "execution": {
     "iopub.execute_input": "2025-06-12T14:50:18.216305Z",
     "iopub.status.busy": "2025-06-12T14:50:18.215494Z",
     "iopub.status.idle": "2025-06-12T14:50:18.219979Z",
     "shell.execute_reply": "2025-06-12T14:50:18.218982Z"
    },
    "id": "ac73a96b",
    "papermill": {
     "duration": 0.013209,
     "end_time": "2025-06-12T14:50:18.221608",
     "exception": false,
     "start_time": "2025-06-12T14:50:18.208399",
     "status": "completed"
    },
    "tags": []
   },
   "outputs": [],
   "source": [
    "# ID=test_data['ID']\n",
    "# test_data.drop(['ID'],axis=1,inplace=True)"
   ]
  },
  {
   "cell_type": "code",
   "execution_count": 10,
   "id": "89e4f3b9",
   "metadata": {
    "execution": {
     "iopub.execute_input": "2025-06-12T14:50:18.235182Z",
     "iopub.status.busy": "2025-06-12T14:50:18.234804Z",
     "iopub.status.idle": "2025-06-12T14:50:18.240640Z",
     "shell.execute_reply": "2025-06-12T14:50:18.239693Z"
    },
    "papermill": {
     "duration": 0.01461,
     "end_time": "2025-06-12T14:50:18.242423",
     "exception": false,
     "start_time": "2025-06-12T14:50:18.227813",
     "status": "completed"
    },
    "tags": []
   },
   "outputs": [],
   "source": [
    "# test_ids = test_data['ID'].copy()\n",
    "test_data = test_data.drop(columns=['ID'])\n",
    "# test_data.drop(['ID'], axis=1, inplace=True)"
   ]
  },
  {
   "cell_type": "code",
   "execution_count": 11,
   "id": "1c2eab67",
   "metadata": {
    "execution": {
     "iopub.execute_input": "2025-06-12T14:50:18.256429Z",
     "iopub.status.busy": "2025-06-12T14:50:18.256062Z",
     "iopub.status.idle": "2025-06-12T14:50:18.261689Z",
     "shell.execute_reply": "2025-06-12T14:50:18.260638Z"
    },
    "papermill": {
     "duration": 0.014258,
     "end_time": "2025-06-12T14:50:18.263255",
     "exception": false,
     "start_time": "2025-06-12T14:50:18.248997",
     "status": "completed"
    },
    "tags": []
   },
   "outputs": [
    {
     "name": "stdout",
     "output_type": "stream",
     "text": [
      "0    1\n",
      "1    2\n",
      "2    3\n",
      "3    4\n",
      "4    5\n",
      "Name: ID, dtype: int64\n"
     ]
    }
   ],
   "source": [
    "print(test_ids.head())"
   ]
  },
  {
   "cell_type": "code",
   "execution_count": 12,
   "id": "5a38e0dd",
   "metadata": {
    "execution": {
     "iopub.execute_input": "2025-06-12T14:50:18.276768Z",
     "iopub.status.busy": "2025-06-12T14:50:18.276432Z",
     "iopub.status.idle": "2025-06-12T14:50:18.285857Z",
     "shell.execute_reply": "2025-06-12T14:50:18.284742Z"
    },
    "papermill": {
     "duration": 0.018245,
     "end_time": "2025-06-12T14:50:18.287612",
     "exception": false,
     "start_time": "2025-06-12T14:50:18.269367",
     "status": "completed"
    },
    "tags": []
   },
   "outputs": [
    {
     "name": "stdout",
     "output_type": "stream",
     "text": [
      "2845\n"
     ]
    }
   ],
   "source": [
    "print(test_ids.nunique())"
   ]
  },
  {
   "cell_type": "code",
   "execution_count": 13,
   "id": "b6a862ef",
   "metadata": {
    "execution": {
     "iopub.execute_input": "2025-06-12T14:50:18.302782Z",
     "iopub.status.busy": "2025-06-12T14:50:18.302460Z",
     "iopub.status.idle": "2025-06-12T14:50:18.307890Z",
     "shell.execute_reply": "2025-06-12T14:50:18.306827Z"
    },
    "papermill": {
     "duration": 0.014065,
     "end_time": "2025-06-12T14:50:18.309540",
     "exception": false,
     "start_time": "2025-06-12T14:50:18.295475",
     "status": "completed"
    },
    "tags": []
   },
   "outputs": [
    {
     "name": "stdout",
     "output_type": "stream",
     "text": [
      "[1 2 3 4 5]\n"
     ]
    }
   ],
   "source": [
    "print(test_ids.iloc[:5].values)"
   ]
  },
  {
   "cell_type": "code",
   "execution_count": 14,
   "id": "ce50d2bf",
   "metadata": {
    "execution": {
     "iopub.execute_input": "2025-06-12T14:50:18.322740Z",
     "iopub.status.busy": "2025-06-12T14:50:18.322412Z",
     "iopub.status.idle": "2025-06-12T14:50:18.328296Z",
     "shell.execute_reply": "2025-06-12T14:50:18.327614Z"
    },
    "papermill": {
     "duration": 0.014359,
     "end_time": "2025-06-12T14:50:18.329864",
     "exception": false,
     "start_time": "2025-06-12T14:50:18.315505",
     "status": "completed"
    },
    "tags": []
   },
   "outputs": [],
   "source": [
    "# Drop unnecessary columns like index if they exist\n",
    "if 'Unnamed: 0' in test_data.columns:\n",
    "    test_data.drop(columns=['Unnamed: 0'], inplace=True)"
   ]
  },
  {
   "cell_type": "code",
   "execution_count": 15,
   "id": "80f38d7f",
   "metadata": {
    "execution": {
     "iopub.execute_input": "2025-06-12T14:50:18.343615Z",
     "iopub.status.busy": "2025-06-12T14:50:18.343296Z",
     "iopub.status.idle": "2025-06-12T14:50:18.377938Z",
     "shell.execute_reply": "2025-06-12T14:50:18.376805Z"
    },
    "papermill": {
     "duration": 0.043485,
     "end_time": "2025-06-12T14:50:18.379636",
     "exception": false,
     "start_time": "2025-06-12T14:50:18.336151",
     "status": "completed"
    },
    "tags": []
   },
   "outputs": [],
   "source": [
    "# Input missing NDVI values\n",
    "test_data.fillna(test_data.mean(numeric_only=True), inplace=True)\n",
    "\n",
    "# Identify NDVI columns\n",
    "ndvi_cols = [col for col in test_data.columns if '_N' in col]\n",
    "\n",
    "# Feature engineering: same as training\n",
    "test_data['ndvi_mean'] = test_data[ndvi_cols].mean(axis=1)\n",
    "test_data['ndvi_std'] = test_data[ndvi_cols].std(axis=1)\n",
    "test_data['ndvi_min'] = test_data[ndvi_cols].min(axis=1)\n",
    "test_data['ndvi_max'] = test_data[ndvi_cols].max(axis=1)\n",
    "test_data['ndvi_trend'] = test_data[ndvi_cols].iloc[:, -1] - test_data[ndvi_cols].iloc[:, 0]\n",
    "\n",
    "# let's add some more new features. they increased the accuracy! (by a little bit haha)\n",
    "test_data['ndvi_range'] = test_data['ndvi_max'] - test_data['ndvi_min']\n",
    "test_data['ndvi_cv'] = test_data['ndvi_std'] / (test_data['ndvi_mean'] + 1e-5)\n",
    "\n",
    "# let's further tweak it :)\n",
    "test_data['mean_x_std'] = test_data['ndvi_mean'] * test_data['ndvi_std']\n",
    "test_data['trend_x_range'] = test_data['ndvi_trend'] * test_data['ndvi_range']\n",
    "test_data['min_over_max'] = test_data['ndvi_min'] / (test_data['ndvi_max'] + 1e-5)\n",
    "\n",
    "\n",
    "# testing this  - to handle id column\n",
    "# if 'ID' not in test_data.columns:\n",
    "#     if 'Unnamed: 0' in test_data.columns:\n",
    "#         test_data.rename(columns={'Unnamed: 0': 'ID'}, inplace=True)\n",
    "#     else:\n",
    "#         test_data['ID'] = range(len(test_data))  # fallback index\n",
    "\n",
    "# test_ids = test_data['ID']\n",
    "\n",
    "# Drop unused columns\n",
    "# X_test = test_data.drop(columns=['ID'])"
   ]
  },
  {
   "cell_type": "code",
   "execution_count": 16,
   "id": "82ab2793",
   "metadata": {
    "execution": {
     "iopub.execute_input": "2025-06-12T14:50:18.393346Z",
     "iopub.status.busy": "2025-06-12T14:50:18.393029Z",
     "iopub.status.idle": "2025-06-12T14:50:18.399657Z",
     "shell.execute_reply": "2025-06-12T14:50:18.398832Z"
    },
    "papermill": {
     "duration": 0.015348,
     "end_time": "2025-06-12T14:50:18.401304",
     "exception": false,
     "start_time": "2025-06-12T14:50:18.385956",
     "status": "completed"
    },
    "tags": []
   },
   "outputs": [],
   "source": [
    "# Make sure ID and Unnamed: 0 are not in the test features\n",
    "test_data = test_data[X.columns]  # ensure exact same columns as training"
   ]
  },
  {
   "cell_type": "code",
   "execution_count": 17,
   "id": "adbfd6d0",
   "metadata": {
    "execution": {
     "iopub.execute_input": "2025-06-12T14:50:18.415970Z",
     "iopub.status.busy": "2025-06-12T14:50:18.415626Z",
     "iopub.status.idle": "2025-06-12T14:50:18.428552Z",
     "shell.execute_reply": "2025-06-12T14:50:18.427687Z"
    },
    "papermill": {
     "duration": 0.02196,
     "end_time": "2025-06-12T14:50:18.430271",
     "exception": false,
     "start_time": "2025-06-12T14:50:18.408311",
     "status": "completed"
    },
    "tags": []
   },
   "outputs": [],
   "source": [
    "X_test = pd.DataFrame(scaler.transform(test_data), columns=X.columns)"
   ]
  },
  {
   "cell_type": "code",
   "execution_count": 18,
   "id": "671d6dc1",
   "metadata": {
    "execution": {
     "iopub.execute_input": "2025-06-12T14:50:18.446235Z",
     "iopub.status.busy": "2025-06-12T14:50:18.445892Z",
     "iopub.status.idle": "2025-06-12T14:50:18.449737Z",
     "shell.execute_reply": "2025-06-12T14:50:18.449023Z"
    },
    "papermill": {
     "duration": 0.012711,
     "end_time": "2025-06-12T14:50:18.451165",
     "exception": false,
     "start_time": "2025-06-12T14:50:18.438454",
     "status": "completed"
    },
    "tags": []
   },
   "outputs": [],
   "source": [
    "# Use same scaler as train\n",
    "# test_data_scaled = scaler.transform(test_data.values)"
   ]
  },
  {
   "cell_type": "code",
   "execution_count": 19,
   "id": "09a375a0",
   "metadata": {
    "execution": {
     "iopub.execute_input": "2025-06-12T14:50:18.464721Z",
     "iopub.status.busy": "2025-06-12T14:50:18.464389Z",
     "iopub.status.idle": "2025-06-12T14:50:18.472303Z",
     "shell.execute_reply": "2025-06-12T14:50:18.471117Z"
    },
    "papermill": {
     "duration": 0.016534,
     "end_time": "2025-06-12T14:50:18.473896",
     "exception": false,
     "start_time": "2025-06-12T14:50:18.457362",
     "status": "completed"
    },
    "tags": []
   },
   "outputs": [],
   "source": [
    "# Predict\n",
    "test_preds = model.predict(X_test)\n",
    "test_preds_labels = label_encoder.inverse_transform(test_preds)"
   ]
  },
  {
   "cell_type": "code",
   "execution_count": 20,
   "id": "be53aa69",
   "metadata": {
    "execution": {
     "iopub.execute_input": "2025-06-12T14:50:18.487582Z",
     "iopub.status.busy": "2025-06-12T14:50:18.487025Z",
     "iopub.status.idle": "2025-06-12T14:50:18.491282Z",
     "shell.execute_reply": "2025-06-12T14:50:18.490415Z"
    },
    "id": "e65b77a4",
    "papermill": {
     "duration": 0.012615,
     "end_time": "2025-06-12T14:50:18.492713",
     "exception": false,
     "start_time": "2025-06-12T14:50:18.480098",
     "status": "completed"
    },
    "tags": []
   },
   "outputs": [],
   "source": [
    "# y_test = model.predict(test_data)"
   ]
  },
  {
   "cell_type": "code",
   "execution_count": 21,
   "id": "f2949097",
   "metadata": {
    "execution": {
     "iopub.execute_input": "2025-06-12T14:50:18.505894Z",
     "iopub.status.busy": "2025-06-12T14:50:18.505617Z",
     "iopub.status.idle": "2025-06-12T14:50:18.509652Z",
     "shell.execute_reply": "2025-06-12T14:50:18.508763Z"
    },
    "id": "44be4c4c",
    "outputId": "27d50bda-fd0e-4e81-833f-3eba33f9ca9a",
    "papermill": {
     "duration": 0.012322,
     "end_time": "2025-06-12T14:50:18.511164",
     "exception": false,
     "start_time": "2025-06-12T14:50:18.498842",
     "status": "completed"
    },
    "tags": []
   },
   "outputs": [],
   "source": [
    "# y_test"
   ]
  },
  {
   "cell_type": "code",
   "execution_count": 22,
   "id": "bb64615b",
   "metadata": {
    "execution": {
     "iopub.execute_input": "2025-06-12T14:50:18.524724Z",
     "iopub.status.busy": "2025-06-12T14:50:18.524431Z",
     "iopub.status.idle": "2025-06-12T14:50:18.528289Z",
     "shell.execute_reply": "2025-06-12T14:50:18.527497Z"
    },
    "id": "aeee262b",
    "outputId": "25480d3e-d4a5-4a1e-a681-8bbd36c7ceed",
    "papermill": {
     "duration": 0.012281,
     "end_time": "2025-06-12T14:50:18.529708",
     "exception": false,
     "start_time": "2025-06-12T14:50:18.517427",
     "status": "completed"
    },
    "tags": []
   },
   "outputs": [],
   "source": [
    "# y_decoded = label_encoder.inverse_transform(y_test)\n",
    "# y_decoded"
   ]
  },
  {
   "cell_type": "code",
   "execution_count": 23,
   "id": "1b060e2c",
   "metadata": {
    "execution": {
     "iopub.execute_input": "2025-06-12T14:50:18.543044Z",
     "iopub.status.busy": "2025-06-12T14:50:18.542697Z",
     "iopub.status.idle": "2025-06-12T14:50:18.547674Z",
     "shell.execute_reply": "2025-06-12T14:50:18.546891Z"
    },
    "id": "e10db231",
    "papermill": {
     "duration": 0.01343,
     "end_time": "2025-06-12T14:50:18.549195",
     "exception": false,
     "start_time": "2025-06-12T14:50:18.535765",
     "status": "completed"
    },
    "tags": []
   },
   "outputs": [],
   "source": [
    "result = pd.DataFrame({\n",
    "    'ID': test_ids.astype(int),\n",
    "    'class': test_preds_labels\n",
    "})"
   ]
  },
  {
   "cell_type": "code",
   "execution_count": 24,
   "id": "8b35486a",
   "metadata": {
    "execution": {
     "iopub.execute_input": "2025-06-12T14:50:18.563437Z",
     "iopub.status.busy": "2025-06-12T14:50:18.563144Z",
     "iopub.status.idle": "2025-06-12T14:50:18.569320Z",
     "shell.execute_reply": "2025-06-12T14:50:18.568429Z"
    },
    "papermill": {
     "duration": 0.01527,
     "end_time": "2025-06-12T14:50:18.570746",
     "exception": false,
     "start_time": "2025-06-12T14:50:18.555476",
     "status": "completed"
    },
    "tags": []
   },
   "outputs": [],
   "source": [
    "result.columns = ['ID', 'class']\n",
    "result['class'] = result['class'].astype(str).str.strip()"
   ]
  },
  {
   "cell_type": "code",
   "execution_count": 25,
   "id": "c17a7ac5",
   "metadata": {
    "execution": {
     "iopub.execute_input": "2025-06-12T14:50:18.585020Z",
     "iopub.status.busy": "2025-06-12T14:50:18.584140Z",
     "iopub.status.idle": "2025-06-12T14:50:18.593193Z",
     "shell.execute_reply": "2025-06-12T14:50:18.592402Z"
    },
    "id": "9906b67f",
    "outputId": "f06039af-265d-44d8-d080-fd1c2ed75b2b",
    "papermill": {
     "duration": 0.017505,
     "end_time": "2025-06-12T14:50:18.594478",
     "exception": false,
     "start_time": "2025-06-12T14:50:18.576973",
     "status": "completed"
    },
    "tags": []
   },
   "outputs": [
    {
     "data": {
      "text/html": [
       "<div>\n",
       "<style scoped>\n",
       "    .dataframe tbody tr th:only-of-type {\n",
       "        vertical-align: middle;\n",
       "    }\n",
       "\n",
       "    .dataframe tbody tr th {\n",
       "        vertical-align: top;\n",
       "    }\n",
       "\n",
       "    .dataframe thead th {\n",
       "        text-align: right;\n",
       "    }\n",
       "</style>\n",
       "<table border=\"1\" class=\"dataframe\">\n",
       "  <thead>\n",
       "    <tr style=\"text-align: right;\">\n",
       "      <th></th>\n",
       "      <th>ID</th>\n",
       "      <th>class</th>\n",
       "    </tr>\n",
       "  </thead>\n",
       "  <tbody>\n",
       "    <tr>\n",
       "      <th>0</th>\n",
       "      <td>1</td>\n",
       "      <td>forest</td>\n",
       "    </tr>\n",
       "    <tr>\n",
       "      <th>1</th>\n",
       "      <td>2</td>\n",
       "      <td>forest</td>\n",
       "    </tr>\n",
       "    <tr>\n",
       "      <th>2</th>\n",
       "      <td>3</td>\n",
       "      <td>orchard</td>\n",
       "    </tr>\n",
       "    <tr>\n",
       "      <th>3</th>\n",
       "      <td>4</td>\n",
       "      <td>forest</td>\n",
       "    </tr>\n",
       "    <tr>\n",
       "      <th>4</th>\n",
       "      <td>5</td>\n",
       "      <td>forest</td>\n",
       "    </tr>\n",
       "    <tr>\n",
       "      <th>...</th>\n",
       "      <td>...</td>\n",
       "      <td>...</td>\n",
       "    </tr>\n",
       "    <tr>\n",
       "      <th>2840</th>\n",
       "      <td>2841</td>\n",
       "      <td>water</td>\n",
       "    </tr>\n",
       "    <tr>\n",
       "      <th>2841</th>\n",
       "      <td>2842</td>\n",
       "      <td>water</td>\n",
       "    </tr>\n",
       "    <tr>\n",
       "      <th>2842</th>\n",
       "      <td>2843</td>\n",
       "      <td>water</td>\n",
       "    </tr>\n",
       "    <tr>\n",
       "      <th>2843</th>\n",
       "      <td>2844</td>\n",
       "      <td>water</td>\n",
       "    </tr>\n",
       "    <tr>\n",
       "      <th>2844</th>\n",
       "      <td>2845</td>\n",
       "      <td>water</td>\n",
       "    </tr>\n",
       "  </tbody>\n",
       "</table>\n",
       "<p>2845 rows × 2 columns</p>\n",
       "</div>"
      ],
      "text/plain": [
       "        ID    class\n",
       "0        1   forest\n",
       "1        2   forest\n",
       "2        3  orchard\n",
       "3        4   forest\n",
       "4        5   forest\n",
       "...    ...      ...\n",
       "2840  2841    water\n",
       "2841  2842    water\n",
       "2842  2843    water\n",
       "2843  2844    water\n",
       "2844  2845    water\n",
       "\n",
       "[2845 rows x 2 columns]"
      ]
     },
     "execution_count": 25,
     "metadata": {},
     "output_type": "execute_result"
    }
   ],
   "source": [
    "result"
   ]
  },
  {
   "cell_type": "code",
   "execution_count": 26,
   "id": "b43cac45",
   "metadata": {
    "execution": {
     "iopub.execute_input": "2025-06-12T14:50:18.608403Z",
     "iopub.status.busy": "2025-06-12T14:50:18.608100Z",
     "iopub.status.idle": "2025-06-12T14:50:18.613831Z",
     "shell.execute_reply": "2025-06-12T14:50:18.612965Z"
    },
    "papermill": {
     "duration": 0.014509,
     "end_time": "2025-06-12T14:50:18.615272",
     "exception": false,
     "start_time": "2025-06-12T14:50:18.600763",
     "status": "completed"
    },
    "tags": []
   },
   "outputs": [
    {
     "data": {
      "text/plain": [
       "(2845, 2)"
      ]
     },
     "execution_count": 26,
     "metadata": {},
     "output_type": "execute_result"
    }
   ],
   "source": [
    "result.shape"
   ]
  },
  {
   "cell_type": "code",
   "execution_count": 27,
   "id": "17be0cf7",
   "metadata": {
    "execution": {
     "iopub.execute_input": "2025-06-12T14:50:18.629436Z",
     "iopub.status.busy": "2025-06-12T14:50:18.629102Z",
     "iopub.status.idle": "2025-06-12T14:50:18.634768Z",
     "shell.execute_reply": "2025-06-12T14:50:18.634012Z"
    },
    "papermill": {
     "duration": 0.014354,
     "end_time": "2025-06-12T14:50:18.636146",
     "exception": false,
     "start_time": "2025-06-12T14:50:18.621792",
     "status": "completed"
    },
    "tags": []
   },
   "outputs": [
    {
     "name": "stdout",
     "output_type": "stream",
     "text": [
      "[1 2 3 4 5]\n"
     ]
    }
   ],
   "source": [
    "print(result['ID'].iloc[:5].values)"
   ]
  },
  {
   "cell_type": "code",
   "execution_count": 28,
   "id": "0a339940",
   "metadata": {
    "execution": {
     "iopub.execute_input": "2025-06-12T14:50:18.650216Z",
     "iopub.status.busy": "2025-06-12T14:50:18.649865Z",
     "iopub.status.idle": "2025-06-12T14:50:18.655820Z",
     "shell.execute_reply": "2025-06-12T14:50:18.654837Z"
    },
    "papermill": {
     "duration": 0.015059,
     "end_time": "2025-06-12T14:50:18.657642",
     "exception": false,
     "start_time": "2025-06-12T14:50:18.642583",
     "status": "completed"
    },
    "tags": []
   },
   "outputs": [
    {
     "data": {
      "text/plain": [
       "Index(['ID', 'class'], dtype='object')"
      ]
     },
     "execution_count": 28,
     "metadata": {},
     "output_type": "execute_result"
    }
   ],
   "source": [
    "result.columns"
   ]
  },
  {
   "cell_type": "code",
   "execution_count": 29,
   "id": "302779cf",
   "metadata": {
    "execution": {
     "iopub.execute_input": "2025-06-12T14:50:18.672232Z",
     "iopub.status.busy": "2025-06-12T14:50:18.671543Z",
     "iopub.status.idle": "2025-06-12T14:50:18.684932Z",
     "shell.execute_reply": "2025-06-12T14:50:18.683932Z"
    },
    "id": "484c74df",
    "papermill": {
     "duration": 0.022305,
     "end_time": "2025-06-12T14:50:18.686586",
     "exception": false,
     "start_time": "2025-06-12T14:50:18.664281",
     "status": "completed"
    },
    "tags": []
   },
   "outputs": [],
   "source": [
    "result.to_csv(\"submission.csv\", index=False) #this file will appear under the output section of the right navbar. You need to submit this csv file"
   ]
  },
  {
   "cell_type": "code",
   "execution_count": 30,
   "id": "c2a1007e",
   "metadata": {
    "execution": {
     "iopub.execute_input": "2025-06-12T14:50:18.701717Z",
     "iopub.status.busy": "2025-06-12T14:50:18.701377Z",
     "iopub.status.idle": "2025-06-12T14:50:18.832278Z",
     "shell.execute_reply": "2025-06-12T14:50:18.830997Z"
    },
    "papermill": {
     "duration": 0.140837,
     "end_time": "2025-06-12T14:50:18.834276",
     "exception": false,
     "start_time": "2025-06-12T14:50:18.693439",
     "status": "completed"
    },
    "tags": []
   },
   "outputs": [
    {
     "name": "stdout",
     "output_type": "stream",
     "text": [
      "ID,class\r\n",
      "1,forest\r\n",
      "2,forest\r\n",
      "3,orchard\r\n",
      "4,forest\r\n",
      "5,forest\r\n",
      "6,farm\r\n",
      "7,forest\r\n",
      "8,forest\r\n",
      "9,forest\r\n"
     ]
    }
   ],
   "source": [
    "!head submission.csv"
   ]
  }
 ],
 "metadata": {
  "colab": {
   "provenance": []
  },
  "kaggle": {
   "accelerator": "none",
   "dataSources": [
    {
     "databundleVersionId": 12585144,
     "sourceId": 104491,
     "sourceType": "competition"
    }
   ],
   "dockerImageVersionId": 31040,
   "isGpuEnabled": false,
   "isInternetEnabled": false,
   "language": "python",
   "sourceType": "notebook"
  },
  "kernelspec": {
   "display_name": "Python 3",
   "language": "python",
   "name": "python3"
  },
  "language_info": {
   "codemirror_mode": {
    "name": "ipython",
    "version": 3
   },
   "file_extension": ".py",
   "mimetype": "text/x-python",
   "name": "python",
   "nbconvert_exporter": "python",
   "pygments_lexer": "ipython3",
   "version": "3.11.11"
  },
  "papermill": {
   "default_parameters": {},
   "duration": 23.110772,
   "end_time": "2025-06-12T14:50:21.461595",
   "environment_variables": {},
   "exception": null,
   "input_path": "__notebook__.ipynb",
   "output_path": "__notebook__.ipynb",
   "parameters": {},
   "start_time": "2025-06-12T14:49:58.350823",
   "version": "2.6.0"
  }
 },
 "nbformat": 4,
 "nbformat_minor": 5
}
